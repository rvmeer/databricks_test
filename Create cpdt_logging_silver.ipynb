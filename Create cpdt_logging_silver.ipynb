{
 "cells": [
  {
   "cell_type": "code",
   "execution_count": 0,
   "metadata": {
    "application/vnd.databricks.v1+cell": {
     "cellMetadata": {
      "byteLimit": 2048000,
      "rowLimit": 10000
     },
     "inputWidgets": {},
     "nuid": "9ddc30fe-63ee-427b-8cc5-a7eb534a2b71",
     "showTitle": false,
     "tableResultSettingsMap": {},
     "title": ""
    }
   },
   "outputs": [],
   "source": [
    "# motar_asml.logging.lite_raw\n",
    "df = spark.sql(\"\"\"\n",
    "SELECT UPPER(cpd_name) as cpd_name, -- make sure the cpd_name is uppercase\n",
    "    * EXCEPT(cpd_name) \n",
    "FROM motar_asml.logging.lite_raw\n",
    "WHERE \n",
    "    cpd_name is not NULL and cpd_name!='' \n",
    "    --and cpd_name not in (select cpd_name FROM project_cidt_dashboarding_11596.experiments) \n",
    "    --and cpd_name not in (select cpd_name FROM project_cidt_dashboarding_11596.cpds_using_matlab) \n",
    "    and logger not in ('linuxFileSystemWatcher', 'extension') \n",
    "    and user not in ('rameer', 'kwijk', 'sicox', 'rwithage')  \n",
    "\"\"\")\n",
    "\n",
    "display(df)"
   ]
  },
  {
   "cell_type": "code",
   "execution_count": 0,
   "metadata": {
    "application/vnd.databricks.v1+cell": {
     "cellMetadata": {
      "byteLimit": 2048000,
      "rowLimit": 10000
     },
     "inputWidgets": {},
     "nuid": "4eeaa479-17dd-4049-bc97-80412934d56a",
     "showTitle": false,
     "tableResultSettingsMap": {},
     "title": ""
    }
   },
   "outputs": [],
   "source": [
    "# Write the cpdt_logging_silver table\n",
    "df.write.format(\"delta\").mode(\"overwrite\").option(\"mergeSchema\",\"true\").saveAsTable(\"motar_asml.logging.cpdt_logging_silver\")"
   ]
  }
 ],
 "metadata": {
  "application/vnd.databricks.v1+notebook": {
   "computePreferences": null,
   "dashboards": [],
   "environmentMetadata": {
    "base_environment": "",
    "environment_version": "2"
   },
   "language": "python",
   "notebookMetadata": {
    "pythonIndentUnit": 4
   },
   "notebookName": "Create cpdt_logging_silver",
   "widgets": {}
  },
  "language_info": {
   "name": "python"
  }
 },
 "nbformat": 4,
 "nbformat_minor": 0
}
