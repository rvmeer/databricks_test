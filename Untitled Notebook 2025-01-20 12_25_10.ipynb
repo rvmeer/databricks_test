{
 "cells": [
  {
   "cell_type": "code",
   "execution_count": 0,
   "metadata": {
    "application/vnd.databricks.v1+cell": {
     "cellMetadata": {
      "byteLimit": 2048000,
      "implicitDf": true,
      "rowLimit": 10000
     },
     "inputWidgets": {},
     "nuid": "ccf1b630-a415-44fe-83c7-9728226c0dcb",
     "showTitle": false,
     "tableResultSettingsMap": {},
     "title": ""
    }
   },
   "outputs": [],
   "source": [
    "# Unzip all CSV files in /Volumes/motar_asml/logging/logging_raw/csv_archive.zip\n",
    "# and put them next to the zip file in the same volume\n",
    "import zipfile\n",
    "import os\n",
    "\n",
    "zip_file_path = '/Volumes/motar_asml/logging/logging_raw/csv_archive.zip'\n",
    "extract_to_path = '/Volumes/motar_asml/logging/logging_raw/'\n",
    "\n",
    "with zipfile.ZipFile(zip_file_path, 'r') as zip_ref:\n",
    "    # Extract only CSV files\n",
    "    for file in zip_ref.namelist():\n",
    "        if file.endswith('.csv'):\n",
    "            zip_ref.extract(file, extract_to_path)\n"
   ]
  }
 ],
 "metadata": {
  "application/vnd.databricks.v1+notebook": {
   "computePreferences": null,
   "dashboards": [],
   "environmentMetadata": {
    "base_environment": "",
    "environment_version": "1"
   },
   "language": "python",
   "notebookMetadata": {
    "mostRecentlyExecutedCommandWithImplicitDF": {
     "commandId": 7258167354750032,
     "dataframes": [
      "_sqldf"
     ]
    },
    "pythonIndentUnit": 4
   },
   "notebookName": "Untitled Notebook 2025-01-20 12_25_10",
   "widgets": {}
  },
  "language_info": {
   "name": "python"
  }
 },
 "nbformat": 4,
 "nbformat_minor": 0
}
